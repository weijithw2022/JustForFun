{
  "nbformat": 4,
  "nbformat_minor": 0,
  "metadata": {
    "colab": {
      "provenance": []
    },
    "kernelspec": {
      "name": "python3",
      "display_name": "Python 3"
    },
    "language_info": {
      "name": "python"
    }
  },
  "cells": [
    {
      "cell_type": "markdown",
      "source": [
        "# Maximum Number of K-Divisible Components"
      ],
      "metadata": {
        "id": "_ZuDMCmJQ1VT"
      }
    },
    {
      "cell_type": "markdown",
      "source": [
        "\n",
        "There is an undirected tree with n nodes labeled from 0 to n - 1. You are given the integer n and a 2D integer array edges of length n - 1, where edges\\[i] = \\[ai, bi] indicates that there is an edge between nodes ai and bi in the tree.\n",
        "\n",
        "You are also given a 0-indexed integer array values of length n, where values\\[i] is the value associated with the ith node, and an integer k.\n",
        "\n",
        "A valid split of the tree is obtained by removing any set of edges, possibly empty, from the tree such that the resulting components all have values that are divisible by k, where the value of a connected component is the sum of the values of its nodes.\n",
        "\n",
        "Return the maximum number of components in any valid split.\n"
      ],
      "metadata": {
        "id": "5fBEUeurQNxB"
      }
    },
    {
      "cell_type": "markdown",
      "source": [
        "The solution consist of post-order DFS.\n",
        "\n",
        "The algorithm ->\n",
        "\n",
        "\n",
        "*   Start from node 0\n",
        "*   For each subtree, compute the total sun\n",
        "*   If the subtree's sum is divided by k and it's not the root; cut off that edge\n",
        "*   The return value is the remaining sum that continues up the tree(0 if it was cut)\n",
        "*   At the end, add 1 to the answer to include root component"
      ],
      "metadata": {
        "id": "OwF0JjP8Q0T9"
      }
    },
    {
      "cell_type": "code",
      "source": [
        "%%writefile 2872.cpp\n",
        "class Solution {\n",
        "public:\n",
        "    int ans = 0;\n",
        "    int dfs(int node, int parent, vector<vector<int>>& tree, vector<int> &values, int k){\n",
        "        long long total = values[node];\n",
        "        for(int child: tree[node]){\n",
        "            if(child != parent){\n",
        "                long long subtotal = dfs(child, node, tree, values, k);\n",
        "                total += subtotal;\n",
        "            }\n",
        "        }\n",
        "\n",
        "        if(total%k == 0 & node != 0){\n",
        "            ans++;\n",
        "            return 0;\n",
        "        }\n",
        "\n",
        "        return total;\n",
        "    }\n",
        "    int maxKDivisibleComponents(int n, vector<vector<int>>& edges, vector<int>& values, int k) {\n",
        "        vector<vector<int>> tree(n);\n",
        "        for(auto& edge: edges){\n",
        "            int u = edge[0], v = edge[1];\n",
        "            tree[u].push_back(v);\n",
        "            tree[v].push_back(u);\n",
        "        }\n",
        "        long long totalSum = 0;\n",
        "        for(int value: values){\n",
        "            totalSum += value;\n",
        "        }\n",
        "        if (totalSum % k != 0) return 0;\n",
        "\n",
        "        dfs(0, -1, tree, values, k);\n",
        "        return ans + 1;\n",
        "    }\n",
        "};"
      ],
      "metadata": {
        "colab": {
          "base_uri": "https://localhost:8080/"
        },
        "id": "-DiYs7sQSTCI",
        "outputId": "952a02d5-0f8c-40f1-8052-9cc89451cca0"
      },
      "execution_count": 3,
      "outputs": [
        {
          "output_type": "stream",
          "name": "stdout",
          "text": [
            "Writing 2872.cpp\n"
          ]
        }
      ]
    },
    {
      "cell_type": "markdown",
      "source": [
        "Here note that sum was taken to check if it was feasible to build any valid components from here."
      ],
      "metadata": {
        "id": "Chz6DrgRS7oF"
      }
    },
    {
      "cell_type": "markdown",
      "source": [
        "Then I dropped calculating totalSum and return ans + 1. Maybe in the testcases there are no trees which we can't make any components. I used,\n",
        "\n",
        "```\n",
        "assert(totalSum % k == 0);  // This will crash if false\n",
        "```\n",
        "\n",
        "None of them failed. And it performs better than the code without having that part.\n",
        "\n",
        "I asked ChatGPT!!!\n",
        "\n",
        "It says calculating the total sums upfront **before random access later can speed up total performance due to prefetching/caching**. And also modern cpus after few runs learn to skip this part, if it never evaluates false. This is because of the the **CPU predicts the likely outcome using recent history**."
      ],
      "metadata": {
        "id": "IhSo6yzrTlSu"
      }
    },
    {
      "cell_type": "markdown",
      "source": [
        "This is the leetcode implementation. Changes fro mine to them:\n",
        "\n",
        "\n",
        "```\n",
        " auto child: tree[node]\n",
        "```\n",
        "\n",
        "Using componentCount to calculate the number of components without getting the totalSum."
      ],
      "metadata": {
        "id": "LXLYL2GWZ8a3"
      }
    },
    {
      "cell_type": "code",
      "source": [
        "%%writefile 2872_leetcode.cpp\n",
        "class Solution {\n",
        "public:\n",
        "    int maxKDivisibleComponents(int n, vector<vector<int>> &edges,\n",
        "                                vector<int> &values, int k) {\n",
        "        // Step 1: Create adjacency list from edges\n",
        "        vector<int> adjList[n];\n",
        "        for (auto edge : edges) {\n",
        "            int node1 = edge[0];\n",
        "            int node2 = edge[1];\n",
        "            adjList[node1].push_back(node2);\n",
        "            adjList[node2].push_back(node1);\n",
        "        }\n",
        "        // Step 2: Initialize component count\n",
        "        int componentCount = 0;\n",
        "\n",
        "        // Step 3: Start DFS traversal from node 0\n",
        "        dfs(0, -1, adjList, values, k, componentCount);\n",
        "\n",
        "        // Step 4: Return the total number of components\n",
        "        return componentCount;\n",
        "    }\n",
        "\n",
        "private:\n",
        "    int dfs(int currentNode, int parentNode, vector<int> adjList[],\n",
        "            vector<int> &nodeValues, int k, int &componentCount) {\n",
        "        // Step 1: Initialize sum for the current subtree\n",
        "        int sum = 0;\n",
        "\n",
        "        // Step 2: Traverse all neighbors\n",
        "        for (auto neighborNode : adjList[currentNode]) {\n",
        "            if (neighborNode != parentNode) {\n",
        "                // Recursive call to process the subtree rooted at the neighbor\n",
        "                sum += dfs(neighborNode, currentNode, adjList, nodeValues, k,\n",
        "                           componentCount);\n",
        "                sum %= k;  // Ensure the sum stays within bounds\n",
        "            }\n",
        "        }\n",
        "\n",
        "        // Step 3: Add the value of the current node to the sum\n",
        "        sum += nodeValues[currentNode];\n",
        "\n",
        "        // Step 4: Check if the sum is divisible by k\n",
        "        sum %= k;\n",
        "        if (sum == 0) componentCount++;\n",
        "\n",
        "        // Step 5: Return the computed sum for the current subtree\n",
        "        return sum;\n",
        "    }\n",
        "};"
      ],
      "metadata": {
        "colab": {
          "base_uri": "https://localhost:8080/"
        },
        "id": "Pzy68c6cRcUm",
        "outputId": "00fab4b6-fc57-4397-f7f3-3316738f86db"
      },
      "execution_count": 6,
      "outputs": [
        {
          "output_type": "stream",
          "name": "stdout",
          "text": [
            "Overwriting 2872_leetcode.cpp\n"
          ]
        }
      ]
    },
    {
      "cell_type": "code",
      "source": [],
      "metadata": {
        "id": "9Ur41FPIRVVe"
      },
      "execution_count": null,
      "outputs": []
    }
  ]
}